{
 "cells": [
  {
   "cell_type": "markdown",
   "metadata": {
    "collapsed": true,
    "deletable": true,
    "editable": true
   },
   "source": [
    "# 图像分类\n",
    "\n",
    "在此项目中，你将对 [CIFAR-10 数据集](https://www.cs.toronto.edu/~kriz/cifar.html) 中的图片进行分类。该数据集包含飞机、猫狗和其他物体。你需要预处理这些图片，然后用所有样本训练一个卷积神经网络。图片需要标准化（normalized），标签需要采用 one-hot 编码。你需要应用所学的知识构建卷积的、最大池化（max pooling）、丢弃（dropout）和完全连接（fully connected）的层。最后，你需要在样本图片上看到神经网络的预测结果。\n",
    "\n",
    "\n",
    "## 获取数据\n",
    "\n",
    "请运行以下单元，以下载 [CIFAR-10 数据集（Python版）](https://www.cs.toronto.edu/~kriz/cifar-10-python.tar.gz)。\n"
   ]
  },
  {
   "cell_type": "code",
   "execution_count": 1,
   "metadata": {
    "collapsed": false,
    "deletable": true,
    "editable": true
   },
   "outputs": [
    {
     "name": "stderr",
     "output_type": "stream",
     "text": [
      "CIFAR-10 Dataset: 171MB [00:39, 4.31MB/s]                                                                              \n"
     ]
    },
    {
     "name": "stdout",
     "output_type": "stream",
     "text": [
      "All files found!\n"
     ]
    }
   ],
   "source": [
    "\"\"\"\n",
    "DON'T MODIFY ANYTHING IN THIS CELL THAT IS BELOW THIS LINE\n",
    "\"\"\"\n",
    "from urllib.request import urlretrieve\n",
    "from os.path import isfile, isdir\n",
    "from tqdm import tqdm\n",
    "import problem_unittests as tests\n",
    "import tarfile\n",
    "\n",
    "cifar10_dataset_folder_path = 'cifar-10-batches-py'\n",
    "\n",
    "# Use Floyd's cifar-10 dataset if present\n",
    "floyd_cifar10_location = '/input/cifar-10/python.tar.gz'\n",
    "if isfile(floyd_cifar10_location):\n",
    "    tar_gz_path = floyd_cifar10_location\n",
    "else:\n",
    "    tar_gz_path = 'cifar-10-python.tar.gz'\n",
    "\n",
    "class DLProgress(tqdm):\n",
    "    last_block = 0\n",
    "\n",
    "    def hook(self, block_num=1, block_size=1, total_size=None):\n",
    "        self.total = total_size\n",
    "        self.update((block_num - self.last_block) * block_size)\n",
    "        self.last_block = block_num\n",
    "\n",
    "if not isfile(tar_gz_path):\n",
    "    with DLProgress(unit='B', unit_scale=True, miniters=1, desc='CIFAR-10 Dataset') as pbar:\n",
    "        urlretrieve(\n",
    "            'https://www.cs.toronto.edu/~kriz/cifar-10-python.tar.gz',\n",
    "            tar_gz_path,\n",
    "            pbar.hook)\n",
    "\n",
    "if not isdir(cifar10_dataset_folder_path):\n",
    "    with tarfile.open(tar_gz_path) as tar:\n",
    "        tar.extractall()\n",
    "        tar.close()\n",
    "\n",
    "\n",
    "tests.test_folder_path(cifar10_dataset_folder_path)"
   ]
  },
  {
   "cell_type": "markdown",
   "metadata": {
    "deletable": true,
    "editable": true
   },
   "source": [
    "## 探索数据\n",
    "\n",
    "该数据集分成了几部分／批次（batches），以免你的机器在计算时内存不足。CIFAR-10 数据集包含 5 个部分，名称分别为 `data_batch_1`、`data_batch_2`，以此类推。每个部分都包含以下某个类别的标签和图片：\n",
    "\n",
    "* 飞机\n",
    "* 汽车\n",
    "* 鸟类\n",
    "* 猫\n",
    "* 鹿\n",
    "* 狗\n",
    "* 青蛙\n",
    "* 马\n",
    "* 船只\n",
    "* 卡车\n",
    "\n",
    "了解数据集也是对数据进行预测的必经步骤。你可以通过更改 `batch_id` 和 `sample_id` 探索下面的代码单元。`batch_id` 是数据集一个部分的 ID（1 到 5）。`sample_id` 是该部分中图片和标签对（label pair）的 ID。\n",
    "\n",
    "问问你自己：“可能的标签有哪些？”、“图片数据的值范围是多少？”、“标签是按顺序排列，还是随机排列的？”。思考类似的问题，有助于你预处理数据，并使预测结果更准确。\n"
   ]
  },
  {
   "cell_type": "code",
   "execution_count": 6,
   "metadata": {
    "collapsed": false,
    "deletable": true,
    "editable": true
   },
   "outputs": [
    {
     "name": "stdout",
     "output_type": "stream",
     "text": [
      "\n",
      "Stats of batch 1:\n",
      "Samples: 10000\n",
      "Label Counts: {0: 1005, 1: 974, 2: 1032, 3: 1016, 4: 999, 5: 937, 6: 1030, 7: 1001, 8: 1025, 9: 981}\n",
      "First 20 Labels: [6, 9, 9, 4, 1, 1, 2, 7, 8, 3, 4, 7, 7, 2, 9, 9, 9, 3, 2, 6]\n",
      "\n",
      "Example of Image 100:\n",
      "Image - Min Value: 30 Max Value: 242\n",
      "Image - Shape: (32, 32, 3)\n",
      "Label - Label Id: 8 Name: ship\n"
     ]
    },
    {
     "data": {
      "image/png": "[encoded data removed]",
      "text/plain": [
       "<matplotlib.figure.Figure at 0x1d85de5ecc0>"
      ]
     },
     "metadata": {
      "image/png": {
       "height": 250,
       "width": 253
      }
     },
     "output_type": "display_data"
    }
   ],
   "source": [
    "%matplotlib inline\n",
    "%config InlineBackend.figure_format = 'retina'\n",
    "\n",
    "import helper\n",
    "import numpy as np\n",
    "\n",
    "# Explore the dataset\n",
    "batch_id = 1\n",
    "sample_id = 100\n",
    "helper.display_stats(cifar10_dataset_folder_path, batch_id, sample_id)"
   ]
  },
  {
   "cell_type": "markdown",
   "metadata": {
    "deletable": true,
    "editable": true
   },
   "source": [
    "## 实现预处理函数\n",
    "\n",
    "### 标准化\n",
    "\n",
    "在下面的单元中，实现 `normalize` 函数，传入图片数据 `x`，并返回标准化 Numpy 数组。值应该在 0 到 1 的范围内（含 0 和 1）。返回对象应该和 `x` 的形状一样。\n"
   ]
  },
  {
   "cell_type": "code",
   "execution_count": 9,
   "metadata": {
    "collapsed": false,
    "deletable": true,
    "editable": true
   },
   "outputs": [
    {
     "name": "stdout",
     "output_type": "stream",
     "text": [
      "Tests Passed\n"
     ]
    }
   ],
   "source": [
    "def normalize(x):\n",
    "    \"\"\"\n",
    "    Normalize a list of sample image data in the range of 0 to 1\n",
    "    : x: List of image data.  The image shape is (32, 32, 3)\n",
    "    : return: Numpy array of normalize data\n",
    "    \"\"\"\n",
    "    # TODO: Implement Function\n",
    "    z = np.divide(x - np.amin(x), np.amax(x) - np.amin(x))\n",
    "    return z\n",
    "\n",
    "\n",
    "\"\"\"\n",
    "DON'T MODIFY ANYTHING IN THIS CELL THAT IS BELOW THIS LINE\n",
    "\"\"\"\n",
    "tests.test_normalize(normalize)"
   ]
  },
  {
   "cell_type": "markdown",
   "metadata": {
    "deletable": true,
    "editable": true
   },
   "source": [
    "### One-hot 编码\n",
    "\n",
    "和之前的代码单元一样，你将为预处理实现一个函数。这次，你将实现 `one_hot_encode` 函数。输入，也就是 `x`，是一个标签列表。实现该函数，以返回为 one_hot 编码的 Numpy 数组的标签列表。标签的可能值为 0 到 9。每次调用 `one_hot_encode` 时，对于每个值，one_hot 编码函数应该返回相同的编码。确保将编码映射保存到该函数外面。\n",
    "\n",
    "提示：不要重复发明轮子。\n"
   ]
  },
  {
   "cell_type": "code",
   "execution_count": 35,
   "metadata": {
    "collapsed": false,
    "deletable": true,
    "editable": true
   },
   "outputs": [
    {
     "name": "stdout",
     "output_type": "stream",
     "text": [
      "Tests Passed\n"
     ]
    }
   ],
   "source": [
    "from sklearn import preprocessing\n",
    "\n",
    "def one_hot_encode(x):\n",
    "    \"\"\"\n",
    "    One hot encode a list of sample labels. Return a one-hot encoded vector for each label.\n",
    "    : x: List of sample Labels\n",
    "    : return: Numpy array of one-hot encoded labels\n",
    "    \"\"\"\n",
    "    # TODO: Implement Function\n",
    "    lb = preprocessing.LabelBinarizer()\n",
    "    # 对于每个值,one_hot 编码函数应该返回相同的编码。\n",
    "    # 所以就相当于是要将所有的标签的可能值先fit一遍\n",
    "    # 然后再对x进行transform\n",
    "    # 但是其实还是有点不太理解这个地方?????\n",
    "    lb.fit([0,1,2,3,4,5,6,7,8,9])\n",
    "    z = lb.transform(x)\n",
    "    # print(z.shape)\n",
    "    return z\n",
    "\n",
    "\n",
    "\"\"\"\n",
    "DON'T MODIFY ANYTHING IN THIS CELL THAT IS BELOW THIS LINE\n",
    "\"\"\"\n",
    "tests.test_one_hot_encode(one_hot_encode)"
   ]
  },
  {
   "cell_type": "markdown",
   "metadata": {
    "deletable": true,
    "editable": true
   },
   "source": [
    "### 随机化数据\n",
    "\n",
    "之前探索数据时，你已经了解到，样本的顺序是随机的。再随机化一次也不会有什么关系，但是对于这个数据集没有必要。\n"
   ]
  },
  {
   "cell_type": "markdown",
   "metadata": {
    "deletable": true,
    "editable": true
   },
   "source": [
    "## 预处理所有数据并保存\n",
    "\n",
    "运行下方的代码单元，将预处理所有 CIFAR-10 数据，并保存到文件中。下面的代码还使用了 10% 的训练数据，用来验证。\n"
   ]
  },
  {
   "cell_type": "code",
   "execution_count": 36,
   "metadata": {
    "collapsed": false,
    "deletable": true,
    "editable": true
   },
   "outputs": [],
   "source": [
    "\"\"\"\n",
    "DON'T MODIFY ANYTHING IN THIS CELL\n",
    "\"\"\"\n",
    "# Preprocess Training, Validation, and Testing Data\n",
    "helper.preprocess_and_save_data(cifar10_dataset_folder_path, normalize, one_hot_encode)"
   ]
  },
  {
   "cell_type": "markdown",
   "metadata": {
    "deletable": true,
    "editable": true
   },
   "source": [
    "# 检查点\n",
    "\n",
    "这是你的第一个检查点。如果你什么时候决定再回到该记事本，或需要重新启动该记事本，你可以从这里开始。预处理的数据已保存到本地。\n"
   ]
  },
  {
   "cell_type": "code",
   "execution_count": 1,
   "metadata": {
    "collapsed": true,
    "deletable": true,
    "editable": true
   },
   "outputs": [],
   "source": [
    "\"\"\"\n",
    "DON'T MODIFY ANYTHING IN THIS CELL\n",
    "\"\"\"\n",
    "import pickle\n",
    "import problem_unittests as tests\n",
    "import helper\n",
    "\n",
    "# Load the Preprocessed Validation data\n",
    "valid_features, valid_labels = pickle.load(open('preprocess_validation.p', mode='rb'))"
   ]
  },
  {
   "cell_type": "markdown",
   "metadata": {
    "deletable": true,
    "editable": true
   },
   "source": [
    "## 构建网络\n",
    "\n",
    "对于该神经网络，你需要将每层都构建为一个函数。你看到的大部分代码都位于函数外面。要更全面地测试你的代码，我们需要你将每层放入一个函数中。这样使我们能够提供更好的反馈，并使用我们的统一测试检测简单的错误，然后再提交项目。\n",
    "\n",
    ">**注意**：如果你觉得每周很难抽出足够的时间学习这门课程，我们为此项目提供了一个小捷径。对于接下来的几个问题，你可以使用 [TensorFlow Layers](https://www.tensorflow.org/api_docs/python/tf/layers) 或 [TensorFlow Layers (contrib)](https://www.tensorflow.org/api_guides/python/contrib.layers) 程序包中的类来构建每个层级，但是“卷积和最大池化层级”部分的层级除外。TF Layers 和 Keras 及 TFLearn 层级类似，因此很容易学会。\n",
    "\n",
    ">但是，如果你想充分利用这门课程，请尝试自己解决所有问题，不使用 TF Layers 程序包中的任何类。你依然可以使用其他程序包中的类，这些类和你在 TF Layers 中的类名称是一样的！例如，你可以使用 TF Neural Network 版本的 `conv2d` 类 [tf.nn.conv2d](https://www.tensorflow.org/api_docs/python/tf/nn/conv2d)，而不是 TF Layers 版本的 `conv2d` 类 [tf.layers.conv2d](https://www.tensorflow.org/api_docs/python/tf/layers/conv2d)。\n",
    "\n",
    "我们开始吧！\n",
    "\n",
    "\n",
    "### 输入\n",
    "\n",
    "神经网络需要读取图片数据、one-hot 编码标签和丢弃保留概率（dropout keep probability）。请实现以下函数：\n",
    "\n",
    "* 实现 `neural_net_image_input`\n",
    " * 返回 [TF Placeholder](https://www.tensorflow.org/api_docs/python/tf/placeholder)\n",
    " * 使用 `image_shape` 设置形状，部分大小设为 `None`\n",
    " * 使用 [TF Placeholder](https://www.tensorflow.org/api_docs/python/tf/placeholder) 中的 TensorFlow `name` 参数对 TensorFlow 占位符 \"x\" 命名\n",
    "* 实现 `neural_net_label_input`\n",
    " * 返回 [TF Placeholder](https://www.tensorflow.org/api_docs/python/tf/placeholder)\n",
    " * 使用 `n_classes` 设置形状，部分大小设为 `None`\n",
    " * 使用 [TF Placeholder](https://www.tensorflow.org/api_docs/python/tf/placeholder) 中的 TensorFlow `name` 参数对 TensorFlow 占位符 \"y\" 命名\n",
    "* 实现 `neural_net_keep_prob_input`\n",
    " * 返回 [TF Placeholder](https://www.tensorflow.org/api_docs/python/tf/placeholder)，用于丢弃保留概率\n",
    " * 使用 [TF Placeholder](https://www.tensorflow.org/api_docs/python/tf/placeholder) 中的 TensorFlow `name` 参数对 TensorFlow 占位符 \"keep_prob\" 命名\n",
    "\n",
    "这些名称将在项目结束时，用于加载保存的模型。\n",
    "\n",
    "注意：TensorFlow 中的 `None` 表示形状可以是动态大小。"
   ]
  },
  {
   "cell_type": "code",
   "execution_count": 2,
   "metadata": {
    "collapsed": false,
    "deletable": true,
    "editable": true
   },
   "outputs": [
    {
     "name": "stdout",
     "output_type": "stream",
     "text": [
      "Image Input Tests Passed.\n",
      "Label Input Tests Passed.\n",
      "Keep Prob Tests Passed.\n"
     ]
    }
   ],
   "source": [
    "import tensorflow as tf\n",
    "\n",
    "def neural_net_image_input(image_shape):\n",
    "    \"\"\"\n",
    "    Return a Tensor for a batch of image input\n",
    "    : image_shape: Shape of the images\n",
    "    : return: Tensor for image input.\n",
    "    \"\"\"\n",
    "    # TODO: Implement Function\n",
    "    # image_shape = (32,32,3)\n",
    "    x = tf.placeholder(tf.float32, [None,image_shape[0],image_shape[1],image_shape[2]], name='x')\n",
    "    return x\n",
    "\n",
    "\n",
    "def neural_net_label_input(n_classes):\n",
    "    \"\"\"\n",
    "    Return a Tensor for a batch of label input\n",
    "    : n_classes: Number of classes\n",
    "    : return: Tensor for label input.\n",
    "    \"\"\"\n",
    "    # TODO: Implement Function\n",
    "    # n_classes = 10\n",
    "    y = tf.placeholder(tf.float32, [None,n_classes], name='y')\n",
    "    return y\n",
    "\n",
    "\n",
    "def neural_net_keep_prob_input():\n",
    "    \"\"\"\n",
    "    Return a Tensor for keep probability\n",
    "    : return: Tensor for keep probability.\n",
    "    \"\"\"\n",
    "    # TODO: Implement Function\n",
    "    keep_prob = tf.placeholder(tf.float32, name='keep_prob')\n",
    "    return keep_prob\n",
    "\n",
    "\n",
    "\"\"\"\n",
    "DON'T MODIFY ANYTHING IN THIS CELL THAT IS BELOW THIS LINE\n",
    "\"\"\"\n",
    "tf.reset_default_graph()\n",
    "tests.test_nn_image_inputs(neural_net_image_input)\n",
    "tests.test_nn_label_inputs(neural_net_label_input)\n",
    "tests.test_nn_keep_prob_inputs(neural_net_keep_prob_input)"
   ]
  },
  {
   "cell_type": "markdown",
   "metadata": {
    "deletable": true,
    "editable": true
   },
   "source": [
    "### 卷积和最大池化层\n",
    "\n",
    "卷积层级适合处理图片。对于此代码单元，你应该实现函数 `conv2d_maxpool` 以便应用卷积然后进行最大池化：\n",
    "\n",
    "* 使用 `conv_ksize`、`conv_num_outputs` 和 `x_tensor` 的形状创建权重（weight）和偏置（bias）。\n",
    "* 使用权重和 `conv_strides` 对 `x_tensor` 应用卷积。\n",
    " * 建议使用我们建议的间距（SAME），当然也可以使用任何其他间距。\n",
    "* 添加偏置\n",
    "* 向卷积中添加非线性激活（nonlinear activation）\n",
    "* 使用 `pool_ksize` 和 `pool_strides` 应用最大池化\n",
    " * 建议使用我们建议的间距（SAME），当然也可以使用任何其他间距。\n",
    "\n",
    "**注意**：对于**此层**，**请勿使用** [TensorFlow Layers](https://www.tensorflow.org/api_docs/python/tf/layers) 或 [TensorFlow Layers (contrib)](https://www.tensorflow.org/api_guides/python/contrib.layers)，但是仍然可以使用 TensorFlow 的 [Neural Network](https://www.tensorflow.org/api_docs/python/tf/nn) 包。对于所有**其他层**，你依然可以使用快捷方法。\n"
   ]
  },
  {
   "cell_type": "code",
   "execution_count": 31,
   "metadata": {
    "collapsed": false,
    "deletable": true,
    "editable": true
   },
   "outputs": [
    {
     "name": "stdout",
     "output_type": "stream",
     "text": [
      "Tests Passed\n"
     ]
    }
   ],
   "source": [
    "def conv2d_maxpool(x_tensor, conv_num_outputs, conv_ksize, conv_strides, pool_ksize, pool_strides):\n",
    "    \"\"\"\n",
    "    Apply convolution then max pooling to x_tensor\n",
    "    :param x_tensor: TensorFlow Tensor\n",
    "    :param conv_num_outputs: Number of outputs for the convolutional layer\n",
    "    :param conv_ksize: kernal size 2-D Tuple for the convolutional layer\n",
    "    :param conv_strides: Stride 2-D Tuple for convolution\n",
    "    :param pool_ksize: kernal size 2-D Tuple for pool\n",
    "    :param pool_strides: Stride 2-D Tuple for pool\n",
    "    : return: A tensor that represents convolution and max pooling of x_tensor\n",
    "    \"\"\"\n",
    "    # TODO: Implement Function\n",
    "    #print('x_tensor: '+str(x_tensor))\n",
    "    #print('x_tensor shape: '+str(x_tensor.get_shape().as_list()))\n",
    "    #print('conv_num_outputs: '+str(conv_num_outputs))\n",
    "    #print('conv_ksize: '+str(conv_ksize))\n",
    "    #print('conv_strides: '+str(conv_strides))\n",
    "    #print('pool_ksize: '+str(pool_ksize))\n",
    "    #print('pool_strides: '+str(pool_strides))\n",
    "    \n",
    "    # 取出tensor的shape,并将其转化成为int类型\n",
    "    color_channels = x_tensor.get_shape().as_list()[3]\n",
    "    #print('color_channels: '+str(type(color_channels)))\n",
    "    weights = tf.Variable(tf.truncated_normal([conv_ksize[0],conv_ksize[1],color_channels,conv_num_outputs], stddev=0.1))\n",
    "    bias = tf.Variable(tf.zeros(conv_num_outputs))\n",
    "    \n",
    "    # 应用卷积\n",
    "    conv_layer = tf.nn.conv2d(x_tensor,weights,strides=[1,conv_strides[0],conv_strides[1],1],padding='SAME')\n",
    "    # 添加bias\n",
    "    conv_layer = tf.nn.bias_add(conv_layer,bias)\n",
    "    # 使用Activation Function\n",
    "    conv_layer = tf.nn.relu(conv_layer)\n",
    "    # 应用最大池化\n",
    "    conv_layer = tf.nn.max_pool(conv_layer,ksize=[1,pool_ksize[0],pool_ksize[1],1],strides=[1,pool_strides[0],pool_strides[1],1],\n",
    "                               padding='SAME')\n",
    "    \n",
    "    return conv_layer\n",
    "\n",
    "\n",
    "\"\"\"\n",
    "DON'T MODIFY ANYTHING IN THIS CELL THAT IS BELOW THIS LINE\n",
    "\"\"\"\n",
    "tests.test_con_pool(conv2d_maxpool)"
   ]
  },
  {
   "cell_type": "markdown",
   "metadata": {
    "deletable": true,
    "editable": true
   },
   "source": [
    "### 扁平化层\n",
    "\n",
    "实现 `flatten` 函数，将 `x_tensor` 的维度从四维张量（4-D tensor）变成二维张量。输出应该是形状（*部分大小（Batch Size）*，*扁平化图片大小（Flattened Image Size）*）。快捷方法：对于此层，你可以使用 [TensorFlow Layers](https://www.tensorflow.org/api_docs/python/tf/layers) 或 [TensorFlow Layers (contrib)](https://www.tensorflow.org/api_guides/python/contrib.layers) 包中的类。如果你想要更大挑战，可以仅使用其他 TensorFlow 程序包。\n"
   ]
  },
  {
   "cell_type": "code",
   "execution_count": 32,
   "metadata": {
    "collapsed": false,
    "deletable": true,
    "editable": true
   },
   "outputs": [
    {
     "name": "stdout",
     "output_type": "stream",
     "text": [
      "Tests Passed\n"
     ]
    }
   ],
   "source": [
    "def flatten(x_tensor):\n",
    "    \"\"\"\n",
    "    Flatten x_tensor to (Batch Size, Flattened Image Size)\n",
    "    : x_tensor: A tensor of size (Batch Size, ...), where ... are the image dimensions.\n",
    "    : return: A tensor of size (Batch Size, Flattened Image Size).\n",
    "    \"\"\"\n",
    "    # TODO: Implement Function\n",
    "    \n",
    "    ##############################\n",
    "    # 有疑问,如果不使用那两个包要怎么进行实现呢?\n",
    "    return tf.contrib.layers.flatten(x_tensor)\n",
    "\n",
    "\n",
    "\"\"\"\n",
    "DON'T MODIFY ANYTHING IN THIS CELL THAT IS BELOW THIS LINE\n",
    "\"\"\"\n",
    "tests.test_flatten(flatten)"
   ]
  },
  {
   "cell_type": "markdown",
   "metadata": {
    "deletable": true,
    "editable": true
   },
   "source": [
    "### 全连接层\n",
    "\n",
    "实现 `fully_conn` 函数，以向 `x_tensor` 应用完全连接的层级，形状为（*部分大小（Batch Size）*，*num_outputs*）。快捷方法：对于此层，你可以使用 [TensorFlow Layers](https://www.tensorflow.org/api_docs/python/tf/layers) 或 [TensorFlow Layers (contrib)](https://www.tensorflow.org/api_guides/python/contrib.layers) 包中的类。如果你想要更大挑战，可以仅使用其他 TensorFlow 程序包。"
   ]
  },
  {
   "cell_type": "code",
   "execution_count": 33,
   "metadata": {
    "collapsed": false,
    "deletable": true,
    "editable": true
   },
   "outputs": [
    {
     "name": "stdout",
     "output_type": "stream",
     "text": [
      "Tests Passed\n"
     ]
    }
   ],
   "source": [
    "def fully_conn(x_tensor, num_outputs):\n",
    "    \"\"\"\n",
    "    Apply a fully connected layer to x_tensor using weight and bias\n",
    "    : x_tensor: A 2-D tensor where the first dimension is batch size.\n",
    "    : num_outputs: The number of output that the new tensor should be.\n",
    "    : return: A 2-D tensor where the second dimension is num_outputs.\n",
    "    \"\"\"\n",
    "    # TODO: Implement Function\n",
    "    #############################\n",
    "    # 同样的问题,如果不用那两个包要怎么实现呢?\n",
    "    return tf.contrib.layers.fully_connected(x_tensor, num_outputs)\n",
    "\n",
    "\n",
    "\"\"\"\n",
    "DON'T MODIFY ANYTHING IN THIS CELL THAT IS BELOW THIS LINE\n",
    "\"\"\"\n",
    "tests.test_fully_conn(fully_conn)"
   ]
  },
  {
   "cell_type": "markdown",
   "metadata": {
    "deletable": true,
    "editable": true
   },
   "source": [
    "### 输出层\n",
    "\n",
    "实现 `output` 函数，向 x_tensor 应用完全连接的层级，形状为（*部分大小（Batch Size）*，*num_outputs*）。快捷方法：对于此层，你可以使用 [TensorFlow Layers](https://www.tensorflow.org/api_docs/python/tf/layers) 或 [TensorFlow Layers (contrib)](https://www.tensorflow.org/api_guides/python/contrib.layers) 包中的类。如果你想要更大挑战，可以仅使用其他 TensorFlow 程序包。\n",
    "\n",
    "**注意**：该层级不应应用 Activation、softmax 或交叉熵（cross entropy）。"
   ]
  },
  {
   "cell_type": "code",
   "execution_count": 34,
   "metadata": {
    "collapsed": false,
    "deletable": true,
    "editable": true
   },
   "outputs": [
    {
     "name": "stdout",
     "output_type": "stream",
     "text": [
      "Tests Passed\n"
     ]
    }
   ],
   "source": [
    "def output(x_tensor, num_outputs):\n",
    "    \"\"\"\n",
    "    Apply a output layer to x_tensor using weight and bias\n",
    "    : x_tensor: A 2-D tensor where the first dimension is batch size.\n",
    "    : num_outputs: The number of output that the new tensor should be.\n",
    "    : return: A 2-D tensor where the second dimension is num_outputs.\n",
    "    \"\"\"\n",
    "    # TODO: Implement Function\n",
    "    #print('x_tensor: '+str(x_tensor.shape))\n",
    "    #print('num_outputs: '+str(num_outputs))\n",
    "    ##########################################\n",
    "    # 感觉和全连接层差不多???\n",
    "    return tf.contrib.layers.fully_connected(x_tensor, num_outputs, activation_fn=None)\n",
    "\n",
    "\n",
    "\"\"\"\n",
    "DON'T MODIFY ANYTHING IN THIS CELL THAT IS BELOW THIS LINE\n",
    "\"\"\"\n",
    "tests.test_output(output)"
   ]
  },
  {
   "cell_type": "markdown",
   "metadata": {
    "deletable": true,
    "editable": true
   },
   "source": [
    "### 创建卷积模型\n",
    "\n",
    "实现函数 `conv_net`， 创建卷积神经网络模型。该函数传入一批图片 `x`，并输出对数（logits）。使用你在上方创建的层创建此模型：\n",
    "\n",
    "* 应用 1、2 或 3 个卷积和最大池化层（Convolution and Max Pool layers）\n",
    "* 应用一个扁平层（Flatten Layer）\n",
    "* 应用 1、2 或 3 个完全连接层（Fully Connected Layers）\n",
    "* 应用一个输出层（Output Layer）\n",
    "* 返回输出\n",
    "* 使用 `keep_prob` 向模型中的一个或多个层应用 [TensorFlow 的 Dropout](https://www.tensorflow.org/api_docs/python/tf/nn/dropout)"
   ]
  },
  {
   "cell_type": "code",
   "execution_count": 35,
   "metadata": {
    "collapsed": false,
    "deletable": true,
    "editable": true
   },
   "outputs": [
    {
     "name": "stdout",
     "output_type": "stream",
     "text": [
      "Neural Network Built!\n"
     ]
    }
   ],
   "source": [
    "def conv_net(x, keep_prob):\n",
    "    \"\"\"\n",
    "    Create a convolutional neural network model\n",
    "    : x: Placeholder tensor that holds image data.\n",
    "    : keep_prob: Placeholder tensor that hold dropout keep probability.\n",
    "    : return: Tensor that represents logits\n",
    "    \"\"\"\n",
    "    # TODO: Apply 1, 2, or 3 Convolution and Max Pool layers\n",
    "    #    Play around with different number of outputs, kernel size and stride\n",
    "    # Function Definition from Above:\n",
    "    #    conv2d_maxpool(x_tensor, conv_num_outputs, conv_ksize, conv_strides, pool_ksize, pool_strides)\n",
    "    conv_layer = conv2d_maxpool(x, 32, (2,2), (2,2), (2,2), (2,2))\n",
    "    conv_layer = conv2d_maxpool(conv_layer, 64, (2,2), (2,2), (2,2), (2,2))\n",
    "    #conv_layer = conv2d_maxpool(conv_layer, 128, (5,5), (2,2), (2,2), (2,2))\n",
    "    \n",
    "\n",
    "    # TODO: Apply a Flatten Layer\n",
    "    # Function Definition from Above:\n",
    "    #   flatten(x_tensor)\n",
    "    flatten_layer = flatten(conv_layer)\n",
    "    \n",
    "\n",
    "    # TODO: Apply 1, 2, or 3 Fully Connected Layers\n",
    "    #    Play around with different number of outputs\n",
    "    # Function Definition from Above:\n",
    "    #   fully_conn(x_tensor, num_outputs)\n",
    "    fully_conn_layer = fully_conn(flatten_layer, 32)\n",
    "    \n",
    "    \n",
    "    # TODO: Apply an Output Layer\n",
    "    #    Set this to the number of classes\n",
    "    # Function Definition from Above:\n",
    "    #   output(x_tensor, num_outputs)\n",
    "    output_layer = output(fully_conn_layer, 10)\n",
    "    \n",
    "    \n",
    "    # TODO: return output\n",
    "    return output_layer\n",
    "\n",
    "\n",
    "\"\"\"\n",
    "DON'T MODIFY ANYTHING IN THIS CELL THAT IS BELOW THIS LINE\n",
    "\"\"\"\n",
    "\n",
    "##############################\n",
    "## Build the Neural Network ##\n",
    "##############################\n",
    "\n",
    "# Remove previous weights, bias, inputs, etc..\n",
    "tf.reset_default_graph()\n",
    "\n",
    "# Inputs\n",
    "x = neural_net_image_input((32, 32, 3))\n",
    "y = neural_net_label_input(10)\n",
    "keep_prob = neural_net_keep_prob_input()\n",
    "\n",
    "# Model\n",
    "logits = conv_net(x, keep_prob)\n",
    "\n",
    "# Name logits Tensor, so that is can be loaded from disk after training\n",
    "logits = tf.identity(logits, name='logits')\n",
    "\n",
    "# Loss and Optimizer\n",
    "cost = tf.reduce_mean(tf.nn.softmax_cross_entropy_with_logits(logits=logits, labels=y))\n",
    "optimizer = tf.train.AdamOptimizer().minimize(cost)\n",
    "\n",
    "# Accuracy\n",
    "correct_pred = tf.equal(tf.argmax(logits, 1), tf.argmax(y, 1))\n",
    "accuracy = tf.reduce_mean(tf.cast(correct_pred, tf.float32), name='accuracy')\n",
    "\n",
    "tests.test_conv_net(conv_net)"
   ]
  },
  {
   "cell_type": "markdown",
   "metadata": {
    "deletable": true,
    "editable": true
   },
   "source": [
    "## 训练神经网络\n",
    "\n",
    "### 单次优化\n",
    "\n",
    "实现函数 `train_neural_network` 以进行单次优化（single optimization）。该优化应该使用 `optimizer` 优化 `session`，其中 `feed_dict` 具有以下参数：\n",
    "\n",
    "* `x` 表示图片输入\n",
    "* `y` 表示标签\n",
    "* `keep_prob` 表示丢弃的保留率\n",
    "\n",
    "每个部分都会调用该函数，所以 `tf.global_variables_initializer()` 已经被调用。\n",
    "\n",
    "注意：不需要返回任何内容。该函数只是用来优化神经网络。\n"
   ]
  },
  {
   "cell_type": "code",
   "execution_count": 36,
   "metadata": {
    "collapsed": false,
    "deletable": true,
    "editable": true,
    "scrolled": true
   },
   "outputs": [
    {
     "name": "stdout",
     "output_type": "stream",
     "text": [
      "Tests Passed\n"
     ]
    }
   ],
   "source": [
    "def train_neural_network(session, optimizer, keep_probability, feature_batch, label_batch):\n",
    "    \"\"\"\n",
    "    Optimize the session on a batch of images and labels\n",
    "    : session: Current TensorFlow session\n",
    "    : optimizer: TensorFlow optimizer function\n",
    "    : keep_probability: keep probability\n",
    "    : feature_batch: Batch of Numpy image data\n",
    "    : label_batch: Batch of Numpy label data\n",
    "    \"\"\"\n",
    "    # TODO: Implement Function\n",
    "    session.run(optimizer,feed_dict={x:feature_batch, y:label_batch, keep_prob:keep_probability})\n",
    "\n",
    "\n",
    "\"\"\"\n",
    "DON'T MODIFY ANYTHING IN THIS CELL THAT IS BELOW THIS LINE\n",
    "\"\"\"\n",
    "tests.test_train_nn(train_neural_network)"
   ]
  },
  {
   "cell_type": "markdown",
   "metadata": {
    "deletable": true,
    "editable": true
   },
   "source": [
    "### 显示数据\n",
    "\n",
    "实现函数 `print_stats` 以输出损失和验证准确率。使用全局变量 `valid_features` 和 `valid_labels` 计算验证准确率。使用保留率 `1.0` 计算损失和验证准确率（loss and validation accuracy）。\n"
   ]
  },
  {
   "cell_type": "code",
   "execution_count": 37,
   "metadata": {
    "collapsed": false,
    "deletable": true,
    "editable": true
   },
   "outputs": [],
   "source": [
    "def print_stats(session, feature_batch, label_batch, cost, accuracy):\n",
    "    \"\"\"\n",
    "    Print information about loss and validation accuracy\n",
    "    : session: Current TensorFlow session\n",
    "    : feature_batch: Batch of Numpy image data\n",
    "    : label_batch: Batch of Numpy label data\n",
    "    : cost: TensorFlow cost function\n",
    "    : accuracy: TensorFlow accuracy function\n",
    "    \"\"\"\n",
    "    # TODO: Implement Function\n",
    "    print('Cost: '+str(session.run(cost, feed_dict={x:feature_batch, y:label_batch, keep_prob:1.0})),\n",
    "          ' \\tAccuracy: '+str(session.run(accuracy, feed_dict={x:valid_features, y:valid_labels, keep_prob:1.0})))"
   ]
  },
  {
   "cell_type": "markdown",
   "metadata": {
    "deletable": true,
    "editable": true
   },
   "source": [
    "### 超参数\n",
    "\n",
    "调试以下超参数：\n",
    "* 设置 `epochs` 表示神经网络停止学习或开始过拟合的迭代次数\n",
    "* 设置 `batch_size`，表示机器内存允许的部分最大体积。大部分人设为以下常见内存大小：\n",
    "\n",
    " * 64\n",
    " * 128\n",
    " * 256\n",
    " * ...\n",
    "* 设置 `keep_probability` 表示使用丢弃时保留节点的概率"
   ]
  },
  {
   "cell_type": "code",
   "execution_count": 38,
   "metadata": {
    "collapsed": true,
    "deletable": true,
    "editable": true
   },
   "outputs": [],
   "source": [
    "# TODO: Tune Parameters\n",
    "epochs = 50\n",
    "batch_size = 128\n",
    "keep_probability = 0.7"
   ]
  },
  {
   "cell_type": "markdown",
   "metadata": {
    "deletable": true,
    "editable": true
   },
   "source": [
    "### 在单个 CIFAR-10 部分上训练\n",
    "\n",
    "我们先用单个部分，而不是用所有的 CIFAR-10 批次训练神经网络。这样可以节省时间，并对模型进行迭代，以提高准确率。最终验证准确率达到 50% 或以上之后，在下一部分对所有数据运行模型。\n"
   ]
  },
  {
   "cell_type": "code",
   "execution_count": 39,
   "metadata": {
    "collapsed": false,
    "deletable": true,
    "editable": true,
    "scrolled": false
   },
   "outputs": [
    {
     "name": "stdout",
     "output_type": "stream",
     "text": [
      "Checking the Training on a Single Batch...\n",
      "Epoch  1, CIFAR-10 Batch 1:  Cost: 2.18297  \tAccuracy: 0.2314\n",
      "Epoch  2, CIFAR-10 Batch 1:  Cost: 2.1027  \tAccuracy: 0.3304\n",
      "Epoch  3, CIFAR-10 Batch 1:  Cost: 2.06279  \tAccuracy: 0.3428\n",
      "Epoch  4, CIFAR-10 Batch 1:  Cost: 1.98447  \tAccuracy: 0.3576\n",
      "Epoch  5, CIFAR-10 Batch 1:  Cost: 1.9194  \tAccuracy: 0.3752\n",
      "Epoch  6, CIFAR-10 Batch 1:  Cost: 1.85761  \tAccuracy: 0.3878\n",
      "Epoch  7, CIFAR-10 Batch 1:  Cost: 1.79899  \tAccuracy: 0.4\n",
      "Epoch  8, CIFAR-10 Batch 1:  Cost: 1.74562  \tAccuracy: 0.4124\n",
      "Epoch  9, CIFAR-10 Batch 1:  Cost: 1.69103  \tAccuracy: 0.4196\n",
      "Epoch 10, CIFAR-10 Batch 1:  Cost: 1.64398  \tAccuracy: 0.4284\n",
      "Epoch 11, CIFAR-10 Batch 1:  Cost: 1.60281  \tAccuracy: 0.433\n",
      "Epoch 12, CIFAR-10 Batch 1:  Cost: 1.56316  \tAccuracy: 0.4392\n",
      "Epoch 13, CIFAR-10 Batch 1:  Cost: 1.5289  \tAccuracy: 0.4432\n",
      "Epoch 14, CIFAR-10 Batch 1:  Cost: 1.49421  \tAccuracy: 0.448\n",
      "Epoch 15, CIFAR-10 Batch 1:  Cost: 1.46004  \tAccuracy: 0.4546\n",
      "Epoch 16, CIFAR-10 Batch 1:  Cost: 1.42853  \tAccuracy: 0.4574\n",
      "Epoch 17, CIFAR-10 Batch 1:  Cost: 1.39812  \tAccuracy: 0.462\n",
      "Epoch 18, CIFAR-10 Batch 1:  Cost: 1.36828  \tAccuracy: 0.4658\n",
      "Epoch 19, CIFAR-10 Batch 1:  Cost: 1.33985  \tAccuracy: 0.47\n",
      "Epoch 20, CIFAR-10 Batch 1:  Cost: 1.31334  \tAccuracy: 0.471\n",
      "Epoch 21, CIFAR-10 Batch 1:  Cost: 1.28703  \tAccuracy: 0.4724\n",
      "Epoch 22, CIFAR-10 Batch 1:  Cost: 1.2611  \tAccuracy: 0.4744\n",
      "Epoch 23, CIFAR-10 Batch 1:  Cost: 1.23594  \tAccuracy: 0.4762\n",
      "Epoch 24, CIFAR-10 Batch 1:  Cost: 1.21236  \tAccuracy: 0.478\n",
      "Epoch 25, CIFAR-10 Batch 1:  Cost: 1.19198  \tAccuracy: 0.4804\n",
      "Epoch 26, CIFAR-10 Batch 1:  Cost: 1.17215  \tAccuracy: 0.4816\n",
      "Epoch 27, CIFAR-10 Batch 1:  Cost: 1.15379  \tAccuracy: 0.4834\n",
      "Epoch 28, CIFAR-10 Batch 1:  Cost: 1.13691  \tAccuracy: 0.483\n",
      "Epoch 29, CIFAR-10 Batch 1:  Cost: 1.11885  \tAccuracy: 0.4832\n",
      "Epoch 30, CIFAR-10 Batch 1:  Cost: 1.10205  \tAccuracy: 0.486\n",
      "Epoch 31, CIFAR-10 Batch 1:  Cost: 1.08483  \tAccuracy: 0.4842\n",
      "Epoch 32, CIFAR-10 Batch 1:  Cost: 1.06492  \tAccuracy: 0.4872\n",
      "Epoch 33, CIFAR-10 Batch 1:  Cost: 1.0497  \tAccuracy: 0.4912\n",
      "Epoch 34, CIFAR-10 Batch 1:  Cost: 1.0336  \tAccuracy: 0.496\n",
      "Epoch 35, CIFAR-10 Batch 1:  Cost: 1.01754  \tAccuracy: 0.4972\n",
      "Epoch 36, CIFAR-10 Batch 1:  Cost: 1.00464  \tAccuracy: 0.5\n",
      "Epoch 37, CIFAR-10 Batch 1:  Cost: 0.991643  \tAccuracy: 0.5012\n",
      "Epoch 38, CIFAR-10 Batch 1:  Cost: 0.978087  \tAccuracy: 0.5054\n",
      "Epoch 39, CIFAR-10 Batch 1:  Cost: 0.965591  \tAccuracy: 0.5068\n",
      "Epoch 40, CIFAR-10 Batch 1:  Cost: 0.954782  \tAccuracy: 0.5096\n",
      "Epoch 41, CIFAR-10 Batch 1:  Cost: 0.942182  \tAccuracy: 0.5098\n",
      "Epoch 42, CIFAR-10 Batch 1:  Cost: 0.931754  \tAccuracy: 0.5108\n",
      "Epoch 43, CIFAR-10 Batch 1:  Cost: 0.920862  \tAccuracy: 0.5118\n",
      "Epoch 44, CIFAR-10 Batch 1:  Cost: 0.910542  \tAccuracy: 0.5122\n",
      "Epoch 45, CIFAR-10 Batch 1:  Cost: 0.899596  \tAccuracy: 0.5128\n",
      "Epoch 46, CIFAR-10 Batch 1:  Cost: 0.891734  \tAccuracy: 0.5146\n",
      "Epoch 47, CIFAR-10 Batch 1:  Cost: 0.883479  \tAccuracy: 0.5142\n",
      "Epoch 48, CIFAR-10 Batch 1:  Cost: 0.873645  \tAccuracy: 0.514\n",
      "Epoch 49, CIFAR-10 Batch 1:  Cost: 0.861778  \tAccuracy: 0.5142\n",
      "Epoch 50, CIFAR-10 Batch 1:  Cost: 0.852099  \tAccuracy: 0.5146\n"
     ]
    }
   ],
   "source": [
    "\"\"\"\n",
    "DON'T MODIFY ANYTHING IN THIS CELL\n",
    "\"\"\"\n",
    "print('Checking the Training on a Single Batch...')\n",
    "with tf.Session() as sess:\n",
    "    # Initializing the variables\n",
    "    sess.run(tf.global_variables_initializer())\n",
    "    \n",
    "    # Training cycle\n",
    "    for epoch in range(epochs):\n",
    "        batch_i = 1\n",
    "        for batch_features, batch_labels in helper.load_preprocess_training_batch(batch_i, batch_size):\n",
    "            train_neural_network(sess, optimizer, keep_probability, batch_features, batch_labels)\n",
    "        print('Epoch {:>2}, CIFAR-10 Batch {}:  '.format(epoch + 1, batch_i), end='')\n",
    "        #print('batch_features: '+str(batch_features.shape))\n",
    "        #print('batch_labels: '+str(batch_labels.shape))\n",
    "        #print('cost: '+str(cost))\n",
    "        #print('accuracy: '+str(accuracy))\n",
    "        print_stats(sess, batch_features, batch_labels, cost, accuracy)"
   ]
  },
  {
   "cell_type": "markdown",
   "metadata": {
    "deletable": true,
    "editable": true
   },
   "source": [
    "### 完全训练模型\n",
    "\n",
    "现在，单个 CIFAR-10 部分的准确率已经不错了，试试所有五个部分吧。"
   ]
  },
  {
   "cell_type": "code",
   "execution_count": 40,
   "metadata": {
    "collapsed": false,
    "deletable": true,
    "editable": true
   },
   "outputs": [
    {
     "name": "stdout",
     "output_type": "stream",
     "text": [
      "Training...\n",
      "Epoch  1, CIFAR-10 Batch 1:  Cost: 2.17248  \tAccuracy: 0.2232\n",
      "Epoch  1, CIFAR-10 Batch 2:  Cost: 1.98409  \tAccuracy: 0.265\n",
      "Epoch  1, CIFAR-10 Batch 3:  Cost: 1.76704  \tAccuracy: 0.3204\n",
      "Epoch  1, CIFAR-10 Batch 4:  Cost: 1.79323  \tAccuracy: 0.3538\n",
      "Epoch  1, CIFAR-10 Batch 5:  Cost: 1.78011  \tAccuracy: 0.3718\n",
      "Epoch  2, CIFAR-10 Batch 1:  Cost: 1.9286  \tAccuracy: 0.3904\n",
      "Epoch  2, CIFAR-10 Batch 2:  Cost: 1.69245  \tAccuracy: 0.3934\n",
      "Epoch  2, CIFAR-10 Batch 3:  Cost: 1.52554  \tAccuracy: 0.4044\n",
      "Epoch  2, CIFAR-10 Batch 4:  Cost: 1.67148  \tAccuracy: 0.4084\n",
      "Epoch  2, CIFAR-10 Batch 5:  Cost: 1.64609  \tAccuracy: 0.4058\n",
      "Epoch  3, CIFAR-10 Batch 1:  Cost: 1.74575  \tAccuracy: 0.4264\n",
      "Epoch  3, CIFAR-10 Batch 2:  Cost: 1.53954  \tAccuracy: 0.431\n",
      "Epoch  3, CIFAR-10 Batch 3:  Cost: 1.39165  \tAccuracy: 0.4388\n",
      "Epoch  3, CIFAR-10 Batch 4:  Cost: 1.58787  \tAccuracy: 0.446\n",
      "Epoch  3, CIFAR-10 Batch 5:  Cost: 1.56336  \tAccuracy: 0.4392\n",
      "Epoch  4, CIFAR-10 Batch 1:  Cost: 1.65897  \tAccuracy: 0.4584\n",
      "Epoch  4, CIFAR-10 Batch 2:  Cost: 1.44982  \tAccuracy: 0.4528\n",
      "Epoch  4, CIFAR-10 Batch 3:  Cost: 1.29871  \tAccuracy: 0.4646\n",
      "Epoch  4, CIFAR-10 Batch 4:  Cost: 1.50888  \tAccuracy: 0.4658\n",
      "Epoch  4, CIFAR-10 Batch 5:  Cost: 1.48812  \tAccuracy: 0.4664\n",
      "Epoch  5, CIFAR-10 Batch 1:  Cost: 1.57172  \tAccuracy: 0.4812\n",
      "Epoch  5, CIFAR-10 Batch 2:  Cost: 1.39307  \tAccuracy: 0.4762\n",
      "Epoch  5, CIFAR-10 Batch 3:  Cost: 1.21567  \tAccuracy: 0.4818\n",
      "Epoch  5, CIFAR-10 Batch 4:  Cost: 1.44622  \tAccuracy: 0.4866\n",
      "Epoch  5, CIFAR-10 Batch 5:  Cost: 1.42935  \tAccuracy: 0.4846\n",
      "Epoch  6, CIFAR-10 Batch 1:  Cost: 1.50773  \tAccuracy: 0.4972\n",
      "Epoch  6, CIFAR-10 Batch 2:  Cost: 1.34727  \tAccuracy: 0.4994\n",
      "Epoch  6, CIFAR-10 Batch 3:  Cost: 1.15201  \tAccuracy: 0.4932\n",
      "Epoch  6, CIFAR-10 Batch 4:  Cost: 1.38252  \tAccuracy: 0.4998\n",
      "Epoch  6, CIFAR-10 Batch 5:  Cost: 1.38512  \tAccuracy: 0.4914\n",
      "Epoch  7, CIFAR-10 Batch 1:  Cost: 1.44793  \tAccuracy: 0.5064\n",
      "Epoch  7, CIFAR-10 Batch 2:  Cost: 1.30927  \tAccuracy: 0.5138\n",
      "Epoch  7, CIFAR-10 Batch 3:  Cost: 1.10161  \tAccuracy: 0.503\n",
      "Epoch  7, CIFAR-10 Batch 4:  Cost: 1.33048  \tAccuracy: 0.5072\n",
      "Epoch  7, CIFAR-10 Batch 5:  Cost: 1.35336  \tAccuracy: 0.5052\n",
      "Epoch  8, CIFAR-10 Batch 1:  Cost: 1.41581  \tAccuracy: 0.5162\n",
      "Epoch  8, CIFAR-10 Batch 2:  Cost: 1.27516  \tAccuracy: 0.5214\n",
      "Epoch  8, CIFAR-10 Batch 3:  Cost: 1.06231  \tAccuracy: 0.5116\n",
      "Epoch  8, CIFAR-10 Batch 4:  Cost: 1.27699  \tAccuracy: 0.518\n",
      "Epoch  8, CIFAR-10 Batch 5:  Cost: 1.32219  \tAccuracy: 0.5114\n",
      "Epoch  9, CIFAR-10 Batch 1:  Cost: 1.38161  \tAccuracy: 0.5256\n",
      "Epoch  9, CIFAR-10 Batch 2:  Cost: 1.24493  \tAccuracy: 0.526\n",
      "Epoch  9, CIFAR-10 Batch 3:  Cost: 1.01731  \tAccuracy: 0.5212\n",
      "Epoch  9, CIFAR-10 Batch 4:  Cost: 1.23697  \tAccuracy: 0.5252\n",
      "Epoch  9, CIFAR-10 Batch 5:  Cost: 1.29394  \tAccuracy: 0.52\n",
      "Epoch 10, CIFAR-10 Batch 1:  Cost: 1.35265  \tAccuracy: 0.5296\n",
      "Epoch 10, CIFAR-10 Batch 2:  Cost: 1.21633  \tAccuracy: 0.5296\n",
      "Epoch 10, CIFAR-10 Batch 3:  Cost: 0.981522  \tAccuracy: 0.5264\n",
      "Epoch 10, CIFAR-10 Batch 4:  Cost: 1.19965  \tAccuracy: 0.533\n",
      "Epoch 10, CIFAR-10 Batch 5:  Cost: 1.26045  \tAccuracy: 0.5228\n",
      "Epoch 11, CIFAR-10 Batch 1:  Cost: 1.32973  \tAccuracy: 0.537\n",
      "Epoch 11, CIFAR-10 Batch 2:  Cost: 1.19115  \tAccuracy: 0.5364\n",
      "Epoch 11, CIFAR-10 Batch 3:  Cost: 0.956033  \tAccuracy: 0.5328\n",
      "Epoch 11, CIFAR-10 Batch 4:  Cost: 1.17745  \tAccuracy: 0.5406\n",
      "Epoch 11, CIFAR-10 Batch 5:  Cost: 1.22128  \tAccuracy: 0.529\n",
      "Epoch 12, CIFAR-10 Batch 1:  Cost: 1.31073  \tAccuracy: 0.5412\n",
      "Epoch 12, CIFAR-10 Batch 2:  Cost: 1.16496  \tAccuracy: 0.543\n",
      "Epoch 12, CIFAR-10 Batch 3:  Cost: 0.928437  \tAccuracy: 0.5412\n",
      "Epoch 12, CIFAR-10 Batch 4:  Cost: 1.14643  \tAccuracy: 0.547\n",
      "Epoch 12, CIFAR-10 Batch 5:  Cost: 1.18724  \tAccuracy: 0.5358\n",
      "Epoch 13, CIFAR-10 Batch 1:  Cost: 1.29481  \tAccuracy: 0.5444\n",
      "Epoch 13, CIFAR-10 Batch 2:  Cost: 1.14614  \tAccuracy: 0.5472\n",
      "Epoch 13, CIFAR-10 Batch 3:  Cost: 0.903961  \tAccuracy: 0.5462\n",
      "Epoch 13, CIFAR-10 Batch 4:  Cost: 1.11829  \tAccuracy: 0.5546\n",
      "Epoch 13, CIFAR-10 Batch 5:  Cost: 1.15839  \tAccuracy: 0.5408\n",
      "Epoch 14, CIFAR-10 Batch 1:  Cost: 1.27894  \tAccuracy: 0.5494\n",
      "Epoch 14, CIFAR-10 Batch 2:  Cost: 1.12556  \tAccuracy: 0.5536\n",
      "Epoch 14, CIFAR-10 Batch 3:  Cost: 0.883927  \tAccuracy: 0.55\n",
      "Epoch 14, CIFAR-10 Batch 4:  Cost: 1.09516  \tAccuracy: 0.557\n",
      "Epoch 14, CIFAR-10 Batch 5:  Cost: 1.13123  \tAccuracy: 0.5434\n",
      "Epoch 15, CIFAR-10 Batch 1:  Cost: 1.26829  \tAccuracy: 0.5542\n",
      "Epoch 15, CIFAR-10 Batch 2:  Cost: 1.11374  \tAccuracy: 0.557\n",
      "Epoch 15, CIFAR-10 Batch 3:  Cost: 0.865425  \tAccuracy: 0.5546\n",
      "Epoch 15, CIFAR-10 Batch 4:  Cost: 1.07289  \tAccuracy: 0.5616\n",
      "Epoch 15, CIFAR-10 Batch 5:  Cost: 1.09803  \tAccuracy: 0.5446\n",
      "Epoch 16, CIFAR-10 Batch 1:  Cost: 1.25424  \tAccuracy: 0.5576\n",
      "Epoch 16, CIFAR-10 Batch 2:  Cost: 1.09595  \tAccuracy: 0.5588\n",
      "Epoch 16, CIFAR-10 Batch 3:  Cost: 0.843583  \tAccuracy: 0.5552\n",
      "Epoch 16, CIFAR-10 Batch 4:  Cost: 1.04643  \tAccuracy: 0.5638\n",
      "Epoch 16, CIFAR-10 Batch 5:  Cost: 1.06864  \tAccuracy: 0.5492\n",
      "Epoch 17, CIFAR-10 Batch 1:  Cost: 1.25076  \tAccuracy: 0.5606\n",
      "Epoch 17, CIFAR-10 Batch 2:  Cost: 1.08046  \tAccuracy: 0.5612\n",
      "Epoch 17, CIFAR-10 Batch 3:  Cost: 0.824515  \tAccuracy: 0.5606\n",
      "Epoch 17, CIFAR-10 Batch 4:  Cost: 1.01601  \tAccuracy: 0.5692\n",
      "Epoch 17, CIFAR-10 Batch 5:  Cost: 1.04636  \tAccuracy: 0.5516\n",
      "Epoch 18, CIFAR-10 Batch 1:  Cost: 1.23927  \tAccuracy: 0.5642\n",
      "Epoch 18, CIFAR-10 Batch 2:  Cost: 1.06294  \tAccuracy: 0.5652\n",
      "Epoch 18, CIFAR-10 Batch 3:  Cost: 0.808081  \tAccuracy: 0.5654\n",
      "Epoch 18, CIFAR-10 Batch 4:  Cost: 0.987699  \tAccuracy: 0.5722\n",
      "Epoch 18, CIFAR-10 Batch 5:  Cost: 1.02278  \tAccuracy: 0.5534\n",
      "Epoch 19, CIFAR-10 Batch 1:  Cost: 1.23614  \tAccuracy: 0.5676\n",
      "Epoch 19, CIFAR-10 Batch 2:  Cost: 1.05153  \tAccuracy: 0.5686\n",
      "Epoch 19, CIFAR-10 Batch 3:  Cost: 0.797342  \tAccuracy: 0.5664\n",
      "Epoch 19, CIFAR-10 Batch 4:  Cost: 0.966979  \tAccuracy: 0.575\n",
      "Epoch 19, CIFAR-10 Batch 5:  Cost: 1.00099  \tAccuracy: 0.5584\n",
      "Epoch 20, CIFAR-10 Batch 1:  Cost: 1.22394  \tAccuracy: 0.5708\n",
      "Epoch 20, CIFAR-10 Batch 2:  Cost: 1.03517  \tAccuracy: 0.573\n",
      "Epoch 20, CIFAR-10 Batch 3:  Cost: 0.780863  \tAccuracy: 0.5704\n",
      "Epoch 20, CIFAR-10 Batch 4:  Cost: 0.947152  \tAccuracy: 0.5768\n",
      "Epoch 20, CIFAR-10 Batch 5:  Cost: 0.977329  \tAccuracy: 0.5634\n",
      "Epoch 21, CIFAR-10 Batch 1:  Cost: 1.20834  \tAccuracy: 0.576\n",
      "Epoch 21, CIFAR-10 Batch 2:  Cost: 1.018  \tAccuracy: 0.5742\n",
      "Epoch 21, CIFAR-10 Batch 3:  Cost: 0.766877  \tAccuracy: 0.5712\n",
      "Epoch 21, CIFAR-10 Batch 4:  Cost: 0.921016  \tAccuracy: 0.578\n",
      "Epoch 21, CIFAR-10 Batch 5:  Cost: 0.957992  \tAccuracy: 0.5634\n",
      "Epoch 22, CIFAR-10 Batch 1:  Cost: 1.19274  \tAccuracy: 0.5752\n",
      "Epoch 22, CIFAR-10 Batch 2:  Cost: 1.00284  \tAccuracy: 0.579\n",
      "Epoch 22, CIFAR-10 Batch 3:  Cost: 0.754652  \tAccuracy: 0.573\n",
      "Epoch 22, CIFAR-10 Batch 4:  Cost: 0.910398  \tAccuracy: 0.5796\n",
      "Epoch 22, CIFAR-10 Batch 5:  Cost: 0.934649  \tAccuracy: 0.5652\n",
      "Epoch 23, CIFAR-10 Batch 1:  Cost: 1.1848  \tAccuracy: 0.5772\n",
      "Epoch 23, CIFAR-10 Batch 2:  Cost: 0.988029  \tAccuracy: 0.579\n",
      "Epoch 23, CIFAR-10 Batch 3:  Cost: 0.739618  \tAccuracy: 0.577\n",
      "Epoch 23, CIFAR-10 Batch 4:  Cost: 0.895713  \tAccuracy: 0.5804\n",
      "Epoch 23, CIFAR-10 Batch 5:  Cost: 0.923045  \tAccuracy: 0.566\n",
      "Epoch 24, CIFAR-10 Batch 1:  Cost: 1.17712  \tAccuracy: 0.5782\n",
      "Epoch 24, CIFAR-10 Batch 2:  Cost: 0.96917  \tAccuracy: 0.5822\n",
      "Epoch 24, CIFAR-10 Batch 3:  Cost: 0.725235  \tAccuracy: 0.5774\n",
      "Epoch 24, CIFAR-10 Batch 4:  Cost: 0.870332  \tAccuracy: 0.5812\n",
      "Epoch 24, CIFAR-10 Batch 5:  Cost: 0.904918  \tAccuracy: 0.5702\n",
      "Epoch 25, CIFAR-10 Batch 1:  Cost: 1.16607  \tAccuracy: 0.5818\n",
      "Epoch 25, CIFAR-10 Batch 2:  Cost: 0.947843  \tAccuracy: 0.5842\n",
      "Epoch 25, CIFAR-10 Batch 3:  Cost: 0.712255  \tAccuracy: 0.579\n",
      "Epoch 25, CIFAR-10 Batch 4:  Cost: 0.852353  \tAccuracy: 0.587\n",
      "Epoch 25, CIFAR-10 Batch 5:  Cost: 0.882058  \tAccuracy: 0.5728\n",
      "Epoch 26, CIFAR-10 Batch 1:  Cost: 1.15196  \tAccuracy: 0.5834\n",
      "Epoch 26, CIFAR-10 Batch 2:  Cost: 0.93508  \tAccuracy: 0.5842\n",
      "Epoch 26, CIFAR-10 Batch 3:  Cost: 0.699326  \tAccuracy: 0.5782\n",
      "Epoch 26, CIFAR-10 Batch 4:  Cost: 0.824873  \tAccuracy: 0.5902\n",
      "Epoch 26, CIFAR-10 Batch 5:  Cost: 0.863122  \tAccuracy: 0.5756\n",
      "Epoch 27, CIFAR-10 Batch 1:  Cost: 1.14742  \tAccuracy: 0.583\n",
      "Epoch 27, CIFAR-10 Batch 2:  Cost: 0.922103  \tAccuracy: 0.5846\n",
      "Epoch 27, CIFAR-10 Batch 3:  Cost: 0.686926  \tAccuracy: 0.5766\n",
      "Epoch 27, CIFAR-10 Batch 4:  Cost: 0.811283  \tAccuracy: 0.5926\n",
      "Epoch 27, CIFAR-10 Batch 5:  Cost: 0.851742  \tAccuracy: 0.578\n",
      "Epoch 28, CIFAR-10 Batch 1:  Cost: 1.12893  \tAccuracy: 0.5842\n",
      "Epoch 28, CIFAR-10 Batch 2:  Cost: 0.907386  \tAccuracy: 0.5854\n",
      "Epoch 28, CIFAR-10 Batch 3:  Cost: 0.669825  \tAccuracy: 0.578\n",
      "Epoch 28, CIFAR-10 Batch 4:  Cost: 0.791653  \tAccuracy: 0.5942\n",
      "Epoch 28, CIFAR-10 Batch 5:  Cost: 0.837065  \tAccuracy: 0.5782\n",
      "Epoch 29, CIFAR-10 Batch 1:  Cost: 1.10702  \tAccuracy: 0.5874\n",
      "Epoch 29, CIFAR-10 Batch 2:  Cost: 0.904837  \tAccuracy: 0.5872\n",
      "Epoch 29, CIFAR-10 Batch 3:  Cost: 0.655299  \tAccuracy: 0.5788\n",
      "Epoch 29, CIFAR-10 Batch 4:  Cost: 0.779264  \tAccuracy: 0.5928\n",
      "Epoch 29, CIFAR-10 Batch 5:  Cost: 0.823329  \tAccuracy: 0.5802\n",
      "Epoch 30, CIFAR-10 Batch 1:  Cost: 1.08638  \tAccuracy: 0.5908\n",
      "Epoch 30, CIFAR-10 Batch 2:  Cost: 0.895655  \tAccuracy: 0.5888\n",
      "Epoch 30, CIFAR-10 Batch 3:  Cost: 0.642045  \tAccuracy: 0.579\n",
      "Epoch 30, CIFAR-10 Batch 4:  Cost: 0.758219  \tAccuracy: 0.5942\n",
      "Epoch 30, CIFAR-10 Batch 5:  Cost: 0.810499  \tAccuracy: 0.5834\n",
      "Epoch 31, CIFAR-10 Batch 1:  Cost: 1.06826  \tAccuracy: 0.5908\n",
      "Epoch 31, CIFAR-10 Batch 2:  Cost: 0.884287  \tAccuracy: 0.5868\n",
      "Epoch 31, CIFAR-10 Batch 3:  Cost: 0.632494  \tAccuracy: 0.5806\n",
      "Epoch 31, CIFAR-10 Batch 4:  Cost: 0.751104  \tAccuracy: 0.5934\n",
      "Epoch 31, CIFAR-10 Batch 5:  Cost: 0.799773  \tAccuracy: 0.5864\n",
      "Epoch 32, CIFAR-10 Batch 1:  Cost: 1.06166  \tAccuracy: 0.5902\n",
      "Epoch 32, CIFAR-10 Batch 2:  Cost: 0.878617  \tAccuracy: 0.5882\n",
      "Epoch 32, CIFAR-10 Batch 3:  Cost: 0.623026  \tAccuracy: 0.5838\n",
      "Epoch 32, CIFAR-10 Batch 4:  Cost: 0.742196  \tAccuracy: 0.595\n",
      "Epoch 32, CIFAR-10 Batch 5:  Cost: 0.789263  \tAccuracy: 0.5882\n",
      "Epoch 33, CIFAR-10 Batch 1:  Cost: 1.04722  \tAccuracy: 0.5956\n",
      "Epoch 33, CIFAR-10 Batch 2:  Cost: 0.866275  \tAccuracy: 0.59\n",
      "Epoch 33, CIFAR-10 Batch 3:  Cost: 0.613662  \tAccuracy: 0.585\n",
      "Epoch 33, CIFAR-10 Batch 4:  Cost: 0.72672  \tAccuracy: 0.599\n",
      "Epoch 33, CIFAR-10 Batch 5:  Cost: 0.776417  \tAccuracy: 0.5884\n",
      "Epoch 34, CIFAR-10 Batch 1:  Cost: 1.03343  \tAccuracy: 0.5962\n",
      "Epoch 34, CIFAR-10 Batch 2:  Cost: 0.854986  \tAccuracy: 0.5912\n",
      "Epoch 34, CIFAR-10 Batch 3:  Cost: 0.60126  \tAccuracy: 0.588\n",
      "Epoch 34, CIFAR-10 Batch 4:  Cost: 0.719254  \tAccuracy: 0.5996\n",
      "Epoch 34, CIFAR-10 Batch 5:  Cost: 0.768101  \tAccuracy: 0.591\n",
      "Epoch 35, CIFAR-10 Batch 1:  Cost: 1.01476  \tAccuracy: 0.6002\n",
      "Epoch 35, CIFAR-10 Batch 2:  Cost: 0.844886  \tAccuracy: 0.5918\n",
      "Epoch 35, CIFAR-10 Batch 3:  Cost: 0.592584  \tAccuracy: 0.5864\n",
      "Epoch 35, CIFAR-10 Batch 4:  Cost: 0.71067  \tAccuracy: 0.6006\n",
      "Epoch 35, CIFAR-10 Batch 5:  Cost: 0.761456  \tAccuracy: 0.59\n",
      "Epoch 36, CIFAR-10 Batch 1:  Cost: 1.00365  \tAccuracy: 0.602\n",
      "Epoch 36, CIFAR-10 Batch 2:  Cost: 0.840639  \tAccuracy: 0.5938\n",
      "Epoch 36, CIFAR-10 Batch 3:  Cost: 0.578069  \tAccuracy: 0.5898\n",
      "Epoch 36, CIFAR-10 Batch 4:  Cost: 0.701951  \tAccuracy: 0.6032\n",
      "Epoch 36, CIFAR-10 Batch 5:  Cost: 0.757495  \tAccuracy: 0.5912\n",
      "Epoch 37, CIFAR-10 Batch 1:  Cost: 0.988144  \tAccuracy: 0.6024\n",
      "Epoch 37, CIFAR-10 Batch 2:  Cost: 0.832129  \tAccuracy: 0.5972\n",
      "Epoch 37, CIFAR-10 Batch 3:  Cost: 0.56677  \tAccuracy: 0.5932\n",
      "Epoch 37, CIFAR-10 Batch 4:  Cost: 0.693421  \tAccuracy: 0.6042\n",
      "Epoch 37, CIFAR-10 Batch 5:  Cost: 0.750348  \tAccuracy: 0.5942\n",
      "Epoch 38, CIFAR-10 Batch 1:  Cost: 0.978474  \tAccuracy: 0.5986\n",
      "Epoch 38, CIFAR-10 Batch 2:  Cost: 0.824616  \tAccuracy: 0.5984\n",
      "Epoch 38, CIFAR-10 Batch 3:  Cost: 0.553889  \tAccuracy: 0.5912\n",
      "Epoch 38, CIFAR-10 Batch 4:  Cost: 0.678591  \tAccuracy: 0.6052\n",
      "Epoch 38, CIFAR-10 Batch 5:  Cost: 0.74651  \tAccuracy: 0.5968\n",
      "Epoch 39, CIFAR-10 Batch 1:  Cost: 0.968745  \tAccuracy: 0.6016\n",
      "Epoch 39, CIFAR-10 Batch 2:  Cost: 0.816102  \tAccuracy: 0.5972\n",
      "Epoch 39, CIFAR-10 Batch 3:  Cost: 0.54685  \tAccuracy: 0.593\n",
      "Epoch 39, CIFAR-10 Batch 4:  Cost: 0.66744  \tAccuracy: 0.6056\n",
      "Epoch 39, CIFAR-10 Batch 5:  Cost: 0.741731  \tAccuracy: 0.5966\n",
      "Epoch 40, CIFAR-10 Batch 1:  Cost: 0.95683  \tAccuracy: 0.6028\n",
      "Epoch 40, CIFAR-10 Batch 2:  Cost: 0.804422  \tAccuracy: 0.5982\n",
      "Epoch 40, CIFAR-10 Batch 3:  Cost: 0.537121  \tAccuracy: 0.5938\n",
      "Epoch 40, CIFAR-10 Batch 4:  Cost: 0.655429  \tAccuracy: 0.6064\n",
      "Epoch 40, CIFAR-10 Batch 5:  Cost: 0.739377  \tAccuracy: 0.5968\n",
      "Epoch 41, CIFAR-10 Batch 1:  Cost: 0.949612  \tAccuracy: 0.6024\n",
      "Epoch 41, CIFAR-10 Batch 2:  Cost: 0.793354  \tAccuracy: 0.6008\n",
      "Epoch 41, CIFAR-10 Batch 3:  Cost: 0.52656  \tAccuracy: 0.595\n",
      "Epoch 41, CIFAR-10 Batch 4:  Cost: 0.642849  \tAccuracy: 0.6074\n",
      "Epoch 41, CIFAR-10 Batch 5:  Cost: 0.733211  \tAccuracy: 0.5992\n",
      "Epoch 42, CIFAR-10 Batch 1:  Cost: 0.941601  \tAccuracy: 0.6032\n",
      "Epoch 42, CIFAR-10 Batch 2:  Cost: 0.783006  \tAccuracy: 0.6016\n",
      "Epoch 42, CIFAR-10 Batch 3:  Cost: 0.516486  \tAccuracy: 0.5968\n",
      "Epoch 42, CIFAR-10 Batch 4:  Cost: 0.632265  \tAccuracy: 0.6084\n",
      "Epoch 42, CIFAR-10 Batch 5:  Cost: 0.729031  \tAccuracy: 0.6006\n",
      "Epoch 43, CIFAR-10 Batch 1:  Cost: 0.935829  \tAccuracy: 0.6046\n",
      "Epoch 43, CIFAR-10 Batch 2:  Cost: 0.772976  \tAccuracy: 0.6024\n",
      "Epoch 43, CIFAR-10 Batch 3:  Cost: 0.508092  \tAccuracy: 0.5982\n",
      "Epoch 43, CIFAR-10 Batch 4:  Cost: 0.620287  \tAccuracy: 0.608\n",
      "Epoch 43, CIFAR-10 Batch 5:  Cost: 0.720612  \tAccuracy: 0.6004\n",
      "Epoch 44, CIFAR-10 Batch 1:  Cost: 0.923948  \tAccuracy: 0.6058\n",
      "Epoch 44, CIFAR-10 Batch 2:  Cost: 0.768375  \tAccuracy: 0.6026\n",
      "Epoch 44, CIFAR-10 Batch 3:  Cost: 0.503783  \tAccuracy: 0.5998\n",
      "Epoch 44, CIFAR-10 Batch 4:  Cost: 0.61246  \tAccuracy: 0.6096\n",
      "Epoch 44, CIFAR-10 Batch 5:  Cost: 0.718501  \tAccuracy: 0.5994\n",
      "Epoch 45, CIFAR-10 Batch 1:  Cost: 0.91302  \tAccuracy: 0.6072\n",
      "Epoch 45, CIFAR-10 Batch 2:  Cost: 0.758029  \tAccuracy: 0.6038\n",
      "Epoch 45, CIFAR-10 Batch 3:  Cost: 0.493901  \tAccuracy: 0.6\n",
      "Epoch 45, CIFAR-10 Batch 4:  Cost: 0.603836  \tAccuracy: 0.6114\n",
      "Epoch 45, CIFAR-10 Batch 5:  Cost: 0.707895  \tAccuracy: 0.5994\n",
      "Epoch 46, CIFAR-10 Batch 1:  Cost: 0.909742  \tAccuracy: 0.6064\n",
      "Epoch 46, CIFAR-10 Batch 2:  Cost: 0.747914  \tAccuracy: 0.6052\n",
      "Epoch 46, CIFAR-10 Batch 3:  Cost: 0.485778  \tAccuracy: 0.601\n",
      "Epoch 46, CIFAR-10 Batch 4:  Cost: 0.596456  \tAccuracy: 0.6134\n",
      "Epoch 46, CIFAR-10 Batch 5:  Cost: 0.699153  \tAccuracy: 0.6002\n",
      "Epoch 47, CIFAR-10 Batch 1:  Cost: 0.896973  \tAccuracy: 0.6066\n",
      "Epoch 47, CIFAR-10 Batch 2:  Cost: 0.741904  \tAccuracy: 0.6044\n",
      "Epoch 47, CIFAR-10 Batch 3:  Cost: 0.477102  \tAccuracy: 0.6014\n",
      "Epoch 47, CIFAR-10 Batch 4:  Cost: 0.588882  \tAccuracy: 0.6128\n",
      "Epoch 47, CIFAR-10 Batch 5:  Cost: 0.700018  \tAccuracy: 0.599\n",
      "Epoch 48, CIFAR-10 Batch 1:  Cost: 0.882786  \tAccuracy: 0.6062\n",
      "Epoch 48, CIFAR-10 Batch 2:  Cost: 0.736515  \tAccuracy: 0.605\n",
      "Epoch 48, CIFAR-10 Batch 3:  Cost: 0.471135  \tAccuracy: 0.6024\n",
      "Epoch 48, CIFAR-10 Batch 4:  Cost: 0.579214  \tAccuracy: 0.6128\n",
      "Epoch 48, CIFAR-10 Batch 5:  Cost: 0.687049  \tAccuracy: 0.6006\n",
      "Epoch 49, CIFAR-10 Batch 1:  Cost: 0.868792  \tAccuracy: 0.6078\n",
      "Epoch 49, CIFAR-10 Batch 2:  Cost: 0.725178  \tAccuracy: 0.6084\n",
      "Epoch 49, CIFAR-10 Batch 3:  Cost: 0.464931  \tAccuracy: 0.6024\n",
      "Epoch 49, CIFAR-10 Batch 4:  Cost: 0.571726  \tAccuracy: 0.6124\n",
      "Epoch 49, CIFAR-10 Batch 5:  Cost: 0.68148  \tAccuracy: 0.5988\n",
      "Epoch 50, CIFAR-10 Batch 1:  Cost: 0.857531  \tAccuracy: 0.6082\n",
      "Epoch 50, CIFAR-10 Batch 2:  Cost: 0.722909  \tAccuracy: 0.6096\n",
      "Epoch 50, CIFAR-10 Batch 3:  Cost: 0.464474  \tAccuracy: 0.6032\n",
      "Epoch 50, CIFAR-10 Batch 4:  Cost: 0.563719  \tAccuracy: 0.6154\n",
      "Epoch 50, CIFAR-10 Batch 5:  Cost: 0.671138  \tAccuracy: 0.5998\n"
     ]
    }
   ],
   "source": [
    "\"\"\"\n",
    "DON'T MODIFY ANYTHING IN THIS CELL\n",
    "\"\"\"\n",
    "save_model_path = './image_classification'\n",
    "\n",
    "print('Training...')\n",
    "with tf.Session() as sess:\n",
    "    # Initializing the variables\n",
    "    sess.run(tf.global_variables_initializer())\n",
    "    \n",
    "    # Training cycle\n",
    "    for epoch in range(epochs):\n",
    "        # Loop over all batches\n",
    "        n_batches = 5\n",
    "        for batch_i in range(1, n_batches + 1):\n",
    "            for batch_features, batch_labels in helper.load_preprocess_training_batch(batch_i, batch_size):\n",
    "                train_neural_network(sess, optimizer, keep_probability, batch_features, batch_labels)\n",
    "            print('Epoch {:>2}, CIFAR-10 Batch {}:  '.format(epoch + 1, batch_i), end='')\n",
    "            print_stats(sess, batch_features, batch_labels, cost, accuracy)\n",
    "            \n",
    "    # Save Model\n",
    "    saver = tf.train.Saver()\n",
    "    save_path = saver.save(sess, save_model_path)"
   ]
  },
  {
   "cell_type": "markdown",
   "metadata": {
    "deletable": true,
    "editable": true
   },
   "source": [
    "# 检查点\n",
    "\n",
    "模型已保存到本地。\n",
    "\n",
    "## 测试模型\n",
    "\n",
    "利用测试数据集测试你的模型。这将是最终的准确率。你的准确率应该高于 50%。如果没达到，请继续调整模型结构和参数。"
   ]
  },
  {
   "cell_type": "code",
   "execution_count": 41,
   "metadata": {
    "collapsed": false,
    "deletable": true,
    "editable": true
   },
   "outputs": [
    {
     "name": "stdout",
     "output_type": "stream",
     "text": [
      "INFO:tensorflow:Restoring parameters from ./image_classification\n",
      "Testing Accuracy: 0.5922666139240507\n",
      "\n"
     ]
    },
    {
     "data": {
      "image/png": "[encoded data removed]",
      "text/plain": [
       "<matplotlib.figure.Figure at 0x1579cd00be0>"
      ]
     },
     "metadata": {
      "image/png": {
       "height": 319,
       "width": 355
      }
     },
     "output_type": "display_data"
    }
   ],
   "source": [
    "\"\"\"\n",
    "DON'T MODIFY ANYTHING IN THIS CELL\n",
    "\"\"\"\n",
    "%matplotlib inline\n",
    "%config InlineBackend.figure_format = 'retina'\n",
    "\n",
    "import tensorflow as tf\n",
    "import pickle\n",
    "import helper\n",
    "import random\n",
    "\n",
    "# Set batch size if not already set\n",
    "try:\n",
    "    if batch_size:\n",
    "        pass\n",
    "except NameError:\n",
    "    batch_size = 64\n",
    "\n",
    "save_model_path = './image_classification'\n",
    "n_samples = 4\n",
    "top_n_predictions = 3\n",
    "\n",
    "def test_model():\n",
    "    \"\"\"\n",
    "    Test the saved model against the test dataset\n",
    "    \"\"\"\n",
    "\n",
    "    test_features, test_labels = pickle.load(open('preprocess_test.p', mode='rb'))\n",
    "    loaded_graph = tf.Graph()\n",
    "\n",
    "    with tf.Session(graph=loaded_graph) as sess:\n",
    "        # Load model\n",
    "        loader = tf.train.import_meta_graph(save_model_path + '.meta')\n",
    "        loader.restore(sess, save_model_path)\n",
    "\n",
    "        # Get Tensors from loaded model\n",
    "        loaded_x = loaded_graph.get_tensor_by_name('x:0')\n",
    "        loaded_y = loaded_graph.get_tensor_by_name('y:0')\n",
    "        loaded_keep_prob = loaded_graph.get_tensor_by_name('keep_prob:0')\n",
    "        loaded_logits = loaded_graph.get_tensor_by_name('logits:0')\n",
    "        loaded_acc = loaded_graph.get_tensor_by_name('accuracy:0')\n",
    "        \n",
    "        # Get accuracy in batches for memory limitations\n",
    "        test_batch_acc_total = 0\n",
    "        test_batch_count = 0\n",
    "        \n",
    "        for test_feature_batch, test_label_batch in helper.batch_features_labels(test_features, test_labels, batch_size):\n",
    "            test_batch_acc_total += sess.run(\n",
    "                loaded_acc,\n",
    "                feed_dict={loaded_x: test_feature_batch, loaded_y: test_label_batch, loaded_keep_prob: 1.0})\n",
    "            test_batch_count += 1\n",
    "\n",
    "        print('Testing Accuracy: {}\\n'.format(test_batch_acc_total/test_batch_count))\n",
    "\n",
    "        # Print Random Samples\n",
    "        random_test_features, random_test_labels = tuple(zip(*random.sample(list(zip(test_features, test_labels)), n_samples)))\n",
    "        random_test_predictions = sess.run(\n",
    "            tf.nn.top_k(tf.nn.softmax(loaded_logits), top_n_predictions),\n",
    "            feed_dict={loaded_x: random_test_features, loaded_y: random_test_labels, loaded_keep_prob: 1.0})\n",
    "        helper.display_image_predictions(random_test_features, random_test_labels, random_test_predictions)\n",
    "\n",
    "\n",
    "test_model()"
   ]
  },
  {
   "cell_type": "markdown",
   "metadata": {
    "deletable": true,
    "editable": true
   },
   "source": [
    "## 为何准确率只有50-80%？\n",
    "\n",
    "你可能想问，为何准确率不能更高了？首先，对于简单的 CNN 网络来说，50% 已经不低了。纯粹猜测的准确率为10%。但是，你可能注意到有人的准确率[远远超过 80%](http://rodrigob.github.io/are_we_there_yet/build/classification_datasets_results.html#43494641522d3130)。这是因为我们还没有介绍所有的神经网络知识。我们还需要掌握一些其他技巧。\n",
    "\n",
    "## 提交项目\n",
    "\n",
    "提交项目时，确保先运行所有单元，然后再保存记事本。将 notebook 文件另存为“dlnd_image_classification.ipynb”，再在目录 \"File\" -> \"Download as\" 另存为 HTML 格式。请在提交的项目中包含 “helper.py” 和 “problem_unittests.py” 文件。\n"
   ]
  }
 ],
 "metadata": {
  "kernelspec": {
   "display_name": "Python 3",
   "language": "python",
   "name": "python3"
  },
  "language_info": {
   "codemirror_mode": {
    "name": "ipython",
    "version": 3
   },
   "file_extension": ".py",
   "mimetype": "text/x-python",
   "name": "python",
   "nbconvert_exporter": "python",
   "pygments_lexer": "ipython3",
   "version": "3.5.4"
  }
 },
 "nbformat": 4,
 "nbformat_minor": 0
}
